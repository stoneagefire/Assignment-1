{
 "cells": [
  {
   "cell_type": "markdown",
   "metadata": {},
   "source": [
    "<h3>Pattern-1</h3>\n",
    "--------------------------------<br>\n",
    "5 5 5 5 5<br>\n",
    "5 5 5 5<br>\n",
    "5 5 5<br>\n",
    "5 5<br>\n",
    "5<br>"
   ]
  },
  {
   "cell_type": "code",
   "execution_count": 1,
   "metadata": {},
   "outputs": [
    {
     "name": "stdout",
     "output_type": "stream",
     "text": [
      "Enter no. of lines : 5\n",
      "5 5 5 5 5 \n",
      "5 5 5 5 \n",
      "5 5 5 \n",
      "5 5 \n",
      "5 \n",
      "Enter no. of lines : 5\n",
      "5 5 5 5 5 \n",
      "5 5 5 5 \n",
      "5 5 5 \n",
      "5 5 \n",
      "5 \n"
     ]
    }
   ],
   "source": [
    "# Solution-1\n",
    "n = int(input(\"Enter no. of lines : \"))\n",
    "for i in range(0,n):\n",
    "    for j in range(0,n-i):\n",
    "        print('5',end=' ')\n",
    "    print()\n",
    "    \n",
    "# Solution-2\n",
    "n = int(input(\"Enter no. of lines : \"))\n",
    "for i in range(n):\n",
    "    print('5 '*(n-i))"
   ]
  },
  {
   "cell_type": "markdown",
   "metadata": {},
   "source": [
    "<h3>Pattern-2</h3><br>\n",
    "-----------------------------------<br>\n",
    "0 1 2 3 4 5<br>\n",
    "0 1 2 3 4<br>\n",
    "0 1 2 3<br>\n",
    "0 1 2<br>\n",
    "0 1<br>"
   ]
  },
  {
   "cell_type": "code",
   "execution_count": 2,
   "metadata": {},
   "outputs": [
    {
     "name": "stdout",
     "output_type": "stream",
     "text": [
      "Enter no. of lines : 5\n",
      "0 1 2 3 4 5 \n",
      "0 1 2 3 4 \n",
      "0 1 2 3 \n",
      "0 1 2 \n",
      "0 1 \n"
     ]
    }
   ],
   "source": [
    "n = int(input(\"Enter no. of lines : \"))\n",
    "for i in range(n):\n",
    "    print('0',end=' ')\n",
    "    for j in range(0,n-i):\n",
    "        print(j+1,end=' ')\n",
    "    print()"
   ]
  },
  {
   "cell_type": "markdown",
   "metadata": {},
   "source": [
    "<h3>Pattern-3</h3><br>\n",
    "-----------------------------------------<br>\n",
    "1<br>\n",
    "3 3<br>\n",
    "5 5 5<br>\n",
    "7 7 7 7<br>\n",
    "9 9 9 9 9<br>"
   ]
  },
  {
   "cell_type": "code",
   "execution_count": 4,
   "metadata": {},
   "outputs": [
    {
     "name": "stdout",
     "output_type": "stream",
     "text": [
      "Enter no. of lines : 5\n",
      "1 \n",
      "3 3 \n",
      "5 5 5 \n",
      "7 7 7 7 \n",
      "9 9 9 9 9 \n"
     ]
    }
   ],
   "source": [
    "n = int(input(\"Enter no. of lines : \"))\n",
    "for i in range(n):\n",
    "    for j in range(i+1):\n",
    "        print(2*i+1,end=' ')\n",
    "    print()"
   ]
  },
  {
   "cell_type": "markdown",
   "metadata": {},
   "source": [
    "<h3>Pattern-4</h3><br>\n",
    "------------------------------------<br>\n",
    "1<br>\n",
    "2 1<br>\n",
    "3 2 1<br>\n",
    "4 3 2 1<br>\n",
    "5 4 3 2 1<br>"
   ]
  },
  {
   "cell_type": "code",
   "execution_count": 5,
   "metadata": {},
   "outputs": [
    {
     "name": "stdout",
     "output_type": "stream",
     "text": [
      "Enter no. of lines : 5\n",
      "1 \n",
      "2 1 \n",
      "3 2 1 \n",
      "4 3 2 1 \n",
      "5 4 3 2 1 \n"
     ]
    }
   ],
   "source": [
    "n = int(input(\"Enter no. of lines : \"))\n",
    "for i in range(n):\n",
    "    for j in range(0,i+1):\n",
    "        print(i-j+1,end=' ')\n",
    "    print()"
   ]
  },
  {
   "cell_type": "markdown",
   "metadata": {},
   "source": [
    "<h3>Pattern-5</h3><br>\n",
    "--------------------------------------------<br>\n",
    "1<br>\n",
    "3 2<br>\n",
    "6 5 4<br>\n",
    "10 9 8 7<br>"
   ]
  },
  {
   "cell_type": "code",
   "execution_count": 6,
   "metadata": {},
   "outputs": [
    {
     "name": "stdout",
     "output_type": "stream",
     "text": [
      "1 \n",
      "3 2 \n",
      "6 5 4 \n",
      "10 9 8 7 \n"
     ]
    }
   ],
   "source": [
    "start = 1\n",
    "stop = 2\n",
    "cn = stop\n",
    "for row in range(2, 6):\n",
    "    for col in range(start, stop):\n",
    "        cn -= 1\n",
    "        print(cn, end=' ')\n",
    "    print(\"\")\n",
    "    start = stop\n",
    "    stop += row\n",
    "    cn = stop"
   ]
  },
  {
   "cell_type": "markdown",
   "metadata": {},
   "source": [
    "<h3>Pattern-6</h3><br>\n",
    "-------------------------------------<br>\n",
    "1<br>\n",
    "1 1<br>\n",
    "1 2 1<br>\n",
    "1 3 3 1<br>\n",
    "1 4 6 4 1<br>\n",
    "1 5 10 10 5 1<br>\n",
    "1 6 15 20 15 6 1<br>"
   ]
  },
  {
   "cell_type": "code",
   "execution_count": 7,
   "metadata": {},
   "outputs": [
    {
     "name": "stdout",
     "output_type": "stream",
     "text": [
      "Enter no. of lines : 7\n",
      "1 \n",
      "1 1 \n",
      "1 2 1 \n",
      "1 3 3 1 \n",
      "1 4 6 4 1 \n",
      "1 5 10 10 5 1 \n",
      "1 6 15 20 15 6 1 \n"
     ]
    }
   ],
   "source": [
    "from math import factorial\n",
    "\n",
    "n = int(input(\"Enter no. of lines : \"))\n",
    "for i in range(n):\n",
    "    for j in range(i+1):\n",
    "        print(factorial(i)//(factorial(j)*factorial(i-j)), end=\" \")\n",
    "    print()\n"
   ]
  },
  {
   "cell_type": "markdown",
   "metadata": {},
   "source": [
    "<h3>Pattern-7</h3><br>\n",
    "----------------------------------------------<br>\n",
    "1 2 3 4 5<br> \n",
    "2 2 3 4 5 <br>\n",
    "3 3 3 4 5 <br>\n",
    "4 4 4 4 5 <br>\n",
    "5 5 5 5 5<br>"
   ]
  },
  {
   "cell_type": "code",
   "execution_count": 8,
   "metadata": {},
   "outputs": [
    {
     "name": "stdout",
     "output_type": "stream",
     "text": [
      "Enter no. of lines : 5\n",
      "1 2 3 4 5 \n",
      "2 2 3 4 5 \n",
      "3 3 3 4 5 \n",
      "4 4 4 4 5 \n",
      "5 5 5 5 5 \n"
     ]
    }
   ],
   "source": [
    "n = int(input(\"Enter no. of lines : \"))\n",
    "\n",
    "for i in range(1,n+1):\n",
    "    for j in range(i):\n",
    "        print(i,end=\" \")\n",
    "    for j in range(i,n):\n",
    "        print(j+1,end=\" \")\n",
    "    print(\"\")"
   ]
  },
  {
   "cell_type": "markdown",
   "metadata": {},
   "source": [
    "<h3>Pattern-8</h3><br>\n",
    "1<br>\n",
    "2 4 <br>\n",
    "3 6 9 <br>\n",
    "4 8 12 16 <br>\n",
    "5 10 15 20 25 <br>\n",
    "6 12 18 24 30 36 <br>\n",
    "7 14 21 28 35 42 49 <br>\n",
    "8 16 24 32 40 48 56 64<br>"
   ]
  },
  {
   "cell_type": "code",
   "execution_count": 9,
   "metadata": {},
   "outputs": [
    {
     "name": "stdout",
     "output_type": "stream",
     "text": [
      "Enter no. of lines : 8\n",
      "1 \n",
      "2 4 \n",
      "3 6 9 \n",
      "4 8 12 16 \n",
      "5 10 15 20 25 \n",
      "6 12 18 24 30 36 \n",
      "7 14 21 28 35 42 49 \n",
      "8 16 24 32 40 48 56 64 \n"
     ]
    }
   ],
   "source": [
    "n = int(input(\"Enter no. of lines : \"))\n",
    "\n",
    "for i in range(1,n+1):\n",
    "    for j in range(1,i+1):\n",
    "        print(j*i,end=\" \")\n",
    "    print(\"\")"
   ]
  },
  {
   "cell_type": "markdown",
   "metadata": {},
   "source": [
    "<h3>Pattern-9</h3><br>\n",
    " * * * * * * <br>\n",
    "  * * * * * <br>\n",
    "   * * * * <br>\n",
    "    * * * <br>\n",
    "     * * <br>\n",
    "      * <br>"
   ]
  },
  {
   "cell_type": "code",
   "execution_count": 10,
   "metadata": {},
   "outputs": [
    {
     "name": "stdout",
     "output_type": "stream",
     "text": [
      "Enter no. of lines : 6\n",
      "* * * * * * \n",
      " * * * * * \n",
      "  * * * * \n",
      "   * * * \n",
      "    * * \n",
      "     * \n"
     ]
    }
   ],
   "source": [
    "n = int(input(\"Enter no. of lines : \"))\n",
    "for i in range(n):\n",
    "    for k in range(i):\n",
    "        print(\" \",end=\"\")\n",
    "    for j in range(n-i):\n",
    "        print(\"*\",end=\" \")\n",
    "    print(\"\")"
   ]
  },
  {
   "cell_type": "markdown",
   "metadata": {},
   "source": [
    "<h3>Pattern-10</h3><br>\n",
    "       * <br>\n",
    "      * * <br>\n",
    "     * * * <br>\n",
    "    * * * * <br>\n",
    "   * * * * * <br>\n",
    "  * * * * * * <br>\n",
    " * * * * * * *<br>"
   ]
  },
  {
   "cell_type": "code",
   "execution_count": 11,
   "metadata": {},
   "outputs": [
    {
     "name": "stdout",
     "output_type": "stream",
     "text": [
      "Enter no. of lines : 8\n",
      "        \n",
      "       * \n",
      "      * * \n",
      "     * * * \n",
      "    * * * * \n",
      "   * * * * * \n",
      "  * * * * * * \n",
      " * * * * * * * \n",
      "* * * * * * * * \n"
     ]
    }
   ],
   "source": [
    "n = int(input(\"Enter no. of lines : \"))\n",
    "for i in range(n+1):\n",
    "    for k in range(n-i):\n",
    "        print(\" \",end=\"\")\n",
    "    for i in range(i):\n",
    "        print('*',end=\" \")\n",
    "    print(\"\")"
   ]
  },
  {
   "cell_type": "markdown",
   "metadata": {},
   "source": [
    "<h3>Pattern-11</h3><br>\n",
    "* <br>\n",
    "* * <br>\n",
    "* * * <br>\n",
    "* * * * <br>\n",
    "* * * * * <br>\n",
    "* * * * * * <br>\n",
    "<br>\n",
    "* * * * * *<br> \n",
    "* * * * * <br>\n",
    "* * * * <br>\n",
    "* * * <br>\n",
    "* * <br>\n",
    "* <br>"
   ]
  },
  {
   "cell_type": "code",
   "execution_count": 12,
   "metadata": {},
   "outputs": [
    {
     "name": "stdout",
     "output_type": "stream",
     "text": [
      "Enter no .of lines : 6\n",
      "\n",
      "* \n",
      "* * \n",
      "* * * \n",
      "* * * * \n",
      "* * * * * \n",
      "* * * * * * \n",
      "\n",
      "* * * * * * \n",
      "* * * * * \n",
      "* * * * \n",
      "* * * \n",
      "* * \n",
      "* \n"
     ]
    }
   ],
   "source": [
    "n = int(input(\"Enter no .of lines : \"))\n",
    "for i in range(n+1):\n",
    "    for j in range(i):\n",
    "        print('*',end=\" \")\n",
    "    print(\"\")\n",
    "print(\"\")\n",
    "for i in range(n):\n",
    "    for j in range(n-i):\n",
    "        print('*',end=\" \")\n",
    "    print(\"\")\n",
    "    "
   ]
  },
  {
   "cell_type": "markdown",
   "metadata": {},
   "source": [
    "<h3>Pattern-12</h3><br>\n",
    "---------------------------------<br>\n",
    "* <br>\n",
    "* * <br>\n",
    "* * * <br>\n",
    "* * * * <br>\n",
    "* * * * * <br>\n",
    "* * * * <br>\n",
    "* * * <br>\n",
    "* * <br>\n",
    "* <br>"
   ]
  },
  {
   "cell_type": "code",
   "execution_count": 11,
   "metadata": {},
   "outputs": [
    {
     "name": "stdout",
     "output_type": "stream",
     "text": [
      "Enter no. of lines : 6\n",
      "* \n",
      "* * \n",
      "* * * \n",
      "* * * * \n",
      "* * * * * \n",
      "* * * * * * \n",
      "* * * * * \n",
      "* * * * \n",
      "* * * \n",
      "* * \n",
      "* \n"
     ]
    }
   ],
   "source": [
    "n = int(input(\"Enter no. of lines : \"))\n",
    "for i in range(n):\n",
    "    for j in range(i+1):\n",
    "        print('*',end=\" \")\n",
    "    print()\n",
    "    \n",
    "for i in range(1,n):\n",
    "    for j in range(n-i):\n",
    "        print('*',end=' ')\n",
    "    print('')"
   ]
  },
  {
   "cell_type": "markdown",
   "metadata": {},
   "source": [
    "<h3>Pattern-13</h3><br>\n",
    "------------------------------------<br>\n",
    "<p>      * <br> \n",
    "       * * <br> \n",
    "     * * * <br> \n",
    "   * * * * <br>\n",
    " * * * * * <br>\n",
    "   * * * * <br>\n",
    "     * * * <br>\n",
    "       * * <br>\n",
    "         *</p> <br>"
   ]
  },
  {
   "cell_type": "code",
   "execution_count": 15,
   "metadata": {},
   "outputs": [
    {
     "name": "stdout",
     "output_type": "stream",
     "text": [
      "Enter no. of lines : 6\n",
      "            * \n",
      "          * * \n",
      "        * * * \n",
      "      * * * * \n",
      "    * * * * * \n",
      "  * * * * * * \n",
      "    * * * * * \n",
      "      * * * * \n",
      "        * * * \n",
      "          * * \n",
      "            * \n"
     ]
    }
   ],
   "source": [
    "n = int(input(\"Enter no. of lines : \"))\n",
    "for i in range(n):\n",
    "    for k in range(n-i):\n",
    "        print(' ',end=' ')\n",
    "    for j in range(i+1):\n",
    "        print('*',end=\" \")\n",
    "    print()\n",
    "    \n",
    "for i in range(1,n):\n",
    "    for k in range(i+1):\n",
    "        print(' ',end=' ')\n",
    "    for j in range(n-i):\n",
    "        print('*',end=' ')\n",
    "    print('')"
   ]
  },
  {
   "cell_type": "markdown",
   "metadata": {},
   "source": [
    "<h3>Pattern-14</h3><br>\n",
    "--------------------------------------<br>\n",
    "* * * * * <br>\n",
    " * * * * <br>\n",
    "  * * * <br>\n",
    "   * * <br>\n",
    "    * <br>\n",
    "    * <br>\n",
    "   * * <br>\n",
    "  * * * <br>\n",
    " * * * * <br>\n",
    "* * * * * <br>"
   ]
  },
  {
   "cell_type": "code",
   "execution_count": 23,
   "metadata": {},
   "outputs": [
    {
     "name": "stdout",
     "output_type": "stream",
     "text": [
      "Enter no. of lines : 6\n",
      "* * * * * *  \n",
      " * * * * *  \n",
      "  * * * *  \n",
      "   * * *  \n",
      "    * *  \n",
      "     *  \n",
      "     *  \n",
      "    * *  \n",
      "   * * *  \n",
      "  * * * *  \n",
      " * * * * *  \n",
      "* * * * * *  \n"
     ]
    }
   ],
   "source": [
    "n = int(input(\"Enter no. of lines : \"))\n",
    "for i in range(n):\n",
    "    for k in range(i):\n",
    "        print(' ',end='')\n",
    "    for j in range(n-i):\n",
    "        print('* ' ,end=\"\")\n",
    "    print(\" \")\n",
    "    \n",
    "for i in range(n):\n",
    "    for k in range(n-(i+1)):\n",
    "        print(' ',end='')\n",
    "    for j in range(i+1):\n",
    "        print('* ' ,end=\"\")\n",
    "    print(\" \")"
   ]
  },
  {
   "cell_type": "markdown",
   "metadata": {},
   "source": [
    "<h3>Pattern-</h3><br>\n",
    "--------------------------------------<br>\n",
    "****************<br>\n",
    "*******__*******<br>\n",
    "******____******<br>\n",
    "*****______*****<br>\n",
    "****________****<br>\n",
    "***__________***<br>\n",
    "**____________**<br>\n",
    "*______________*<br>"
   ]
  },
  {
   "cell_type": "code",
   "execution_count": 7,
   "metadata": {},
   "outputs": [
    {
     "name": "stdout",
     "output_type": "stream",
     "text": [
      "Enter no. of lines : 10\n",
      "********************\n",
      "*********__*********\n",
      "********____********\n",
      "*******______*******\n",
      "******________******\n",
      "*****__________*****\n",
      "****____________****\n",
      "***______________***\n",
      "**________________**\n",
      "*__________________*\n"
     ]
    }
   ],
   "source": [
    "n = int(input(\"Enter no. of lines : \"))\n",
    "\n",
    "for i in range(n):\n",
    "    for j in range(n-i):\n",
    "        print('*',end=\"\")\n",
    "    for k in range(i):\n",
    "        print('__',end=\"\")\n",
    "    for j in range(n-i):\n",
    "        print('*',end=\"\")\n",
    "    print('')\n"
   ]
  }
 ],
 "metadata": {
  "kernelspec": {
   "display_name": "Python 3",
   "language": "python",
   "name": "python3"
  },
  "language_info": {
   "codemirror_mode": {
    "name": "ipython",
    "version": 3
   },
   "file_extension": ".py",
   "mimetype": "text/x-python",
   "name": "python",
   "nbconvert_exporter": "python",
   "pygments_lexer": "ipython3",
   "version": "3.8.3"
  }
 },
 "nbformat": 4,
 "nbformat_minor": 4
}
